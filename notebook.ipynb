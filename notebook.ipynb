{
 "cells": [
  {
   "cell_type": "markdown",
   "metadata": {},
   "source": [
    "This notebook presents the core implementations of our method and uses that to train ensembles of 2 or 3 ResNet-18 models on CIFAR-10. It computes the transferability rates for ```Orig```, ```C=1.0```, and ```LOTOS C=1.0 mal=0.8``` using white-box attack as explained in our paper and generates similar plots to the ones we have in the experiments section:"
   ]
  },
  {
   "cell_type": "code",
   "execution_count": 11,
   "metadata": {},
   "outputs": [],
   "source": [
    "import torch\n",
    "import torch.nn as nn\n",
    "from torch.utils.data import DataLoader\n",
    "import torch.optim as optim\n",
    "import torchvision.transforms as transforms\n",
    "import torchvision\n",
    "from advertorch.attacks.utils import attack_whole_dataset\n",
    "from advertorch.attacks import LinfPGDAttack\n",
    "\n",
    "from models.resnet import ResNet18\n",
    "from models.resnet_orig import ResNet18_orig\n",
    "\n",
    "import random\n",
    "import numpy as np\n",
    "import pandas as pd\n",
    "import time\n",
    "\n",
    "from utils.Empirical.utils_ensemble import AverageMeter, requires_grad_\n",
    "\n",
    "device = torch.device(\"cuda\" if torch.cuda.is_available() else \"cpu\")"
   ]
  },
  {
   "cell_type": "markdown",
   "metadata": {},
   "source": [
    "Setting a set of parameters that are the default ones for our experiments:"
   ]
  },
  {
   "cell_type": "code",
   "execution_count": 12,
   "metadata": {},
   "outputs": [],
   "source": [
    "freq = 50\n",
    "conv_freq = 1\n",
    "effective_epoch = 0\n",
    "conv_only = True\n",
    "conv_1st_only = False\n",
    "num_models = 2\n",
    "opt_iter = 1\n",
    "clip_steps = 100\n",
    "bn_flag = False\n",
    "epochs = 121\n",
    "in_chan = 3\n",
    "num_classes = 10\n",
    "bottom_clip = 0.8 # mal value\n",
    "cat_bottom_clip = 0.8 # mal value for the concatenation when batchnorm is used\n",
    "conv_factor = 0.05\n",
    "cat_factor = 0.05\n",
    "adv_eps = 0.04"
   ]
  },
  {
   "cell_type": "markdown",
   "metadata": {},
   "source": [
    "Helper function to extract and compute the average of transferability rate, roubstness, and accuracy for the models in the ensemble for each epoch:"
   ]
  },
  {
   "cell_type": "code",
   "execution_count": 13,
   "metadata": {},
   "outputs": [],
   "source": [
    "def compute_trans(sub_df, model_count=3):\n",
    "    ### computing the average of the transferability rates from pairs of models\n",
    "    if model_count == 3:\n",
    "        trans_mat = sub_df[['t0', 't1', 't2']].values\n",
    "    elif model_count == 2:\n",
    "        trans_mat = sub_df[['t0', 't1']].values\n",
    "    acc_avg = sub_df['acc'].mean()\n",
    "\n",
    "    # compute the sum of off-diagonal values of trans_mat:\n",
    "    off_diagonal_sum = np.sum(trans_mat) - np.trace(trans_mat)\n",
    "    if model_count == 3:\n",
    "        trans_rate = off_diagonal_sum / 6.\n",
    "    elif model_count == 2:\n",
    "        trans_rate = off_diagonal_sum / 2.\n",
    "\n",
    "    if model_count == 3:\n",
    "        robustness = 1. - np.trace(trans_mat) / 3.\n",
    "    elif model_count == 2:\n",
    "        robustness = 1. - np.trace(trans_mat) / 2.\n",
    "\n",
    "    return trans_rate, robustness, acc_avg"
   ]
  },
  {
   "cell_type": "code",
   "execution_count": 14,
   "metadata": {},
   "outputs": [],
   "source": [
    "def summarize(df, num_models):\n",
    "    trans_df_1_group = df.groupby('epoch')\n",
    "    results = []\n",
    "    for idx, group in trans_df_1_group:\n",
    "        group = group[:num_models]\n",
    "        trans_rate, robustness, acc_avg = compute_trans(group, num_models)\n",
    "        results.append([int(idx),trans_rate, robustness, acc_avg])\n",
    "    res_df = pd.DataFrame(results, columns=['epoch', 'trans', 'robust', 'acc'])\n",
    "    return res_df"
   ]
  },
  {
   "cell_type": "markdown",
   "metadata": {},
   "source": [
    "Helper function to use the white-box attacks (see our paper for details) to compute the transferability rate of adversarial examples between each ordered pair of models in the ensemble:"
   ]
  },
  {
   "cell_type": "code",
   "execution_count": 15,
   "metadata": {},
   "outputs": [],
   "source": [
    "def evaltrans_correct(loader, models, criterion, epoch):\n",
    "    ### performing white-box attack to compute the transferability rates\n",
    "    for i in range(len(models)):\n",
    "        models[i].eval()\n",
    "\n",
    "    adv = []\n",
    "    advsamples_lst = []\n",
    "    pred_lst = []\n",
    "    advpred_lst = []   \n",
    "    label = None\n",
    "    for i in range(len(models)):\n",
    "        curmodel = models[i]\n",
    "        adversary = LinfPGDAttack(\n",
    "            curmodel, loss_fn=criterion, eps=adv_eps,\n",
    "            nb_iter=50, eps_iter=adv_eps / 10, rand_init=True, clip_min=0., clip_max=1.,\n",
    "            targeted=False)\n",
    "\n",
    "        adv.append(adversary)\n",
    "        advsamples, label, pred, advpred = attack_whole_dataset(adversary, loader, device=device)\n",
    "        advsamples_lst.append(advsamples)\n",
    "        pred_lst.append(pred)\n",
    "        advpred_lst.append(advpred)\n",
    "\n",
    "    trans_list = []\n",
    "    accs = np.zeros(num_models)\n",
    "    trans = np.zeros((num_models, num_models))\n",
    "    for i in range(len(models)):\n",
    "        _, label, pred, advpred = advsamples_lst[i], label, pred_lst[i], advpred_lst[i]\n",
    "\n",
    "        for j in range(len(models)):\n",
    "            if j==i:\n",
    "                if trans[i][j] > 0.00000001:\n",
    "                    continue\n",
    "                y = label[label == pred]\n",
    "                accs[i] = y.size(0) / label.size(0)\n",
    "                y_wrong = label[(label == pred) & (advpred != label)]\n",
    "                trans[i][j] = y_wrong.size(0) / len(y)\n",
    "\n",
    "            else:\n",
    "                inputc = _[(label == pred) & (advpred != label) & (label==pred_lst[j])]\n",
    "                print('model: ', i, inputc.size(0), ' out of ', _.size(0))\n",
    "                y = label[(label == pred) & (advpred != label) & (label==pred_lst[j])]\n",
    "            \n",
    "                with torch.no_grad():\n",
    "                    for r in range((inputc.size(0) - 1) // 100 + 1):\n",
    "                        inputc_sub = inputc[r * 200: min((r + 1) * 200, inputc.size(0))]\n",
    "                        if len(inputc_sub) == 0:\n",
    "                            break\n",
    "                        y_sub = y[r * 200: min((r + 1) * 200, inputc.size(0))]\n",
    "                        __ = adv[j].predict(inputc_sub)\n",
    "                        output = (__).max(1, keepdim=False)[1]\n",
    "                        trans[i][j] += (output != y_sub).sum().item()\n",
    "                    trans[i][j] /= len(y)\n",
    "\n",
    "            print(i, j, trans[i][j])\n",
    "\n",
    "        new_list = [epoch]\n",
    "        for k in range(num_models):\n",
    "            new_list.append(trans[i,k])\n",
    "        new_list.append(accs[i])\n",
    "        new_tup = tuple(new_list)\n",
    "        trans_list.append(new_tup)\n",
    "\n",
    "    return trans_list"
   ]
  },
  {
   "cell_type": "markdown",
   "metadata": {},
   "source": [
    "The function used for training each each epoch. By setting the ```lotos_flag``` to true, it uses LOTOS for training, otherwise it uses regular training."
   ]
  },
  {
   "cell_type": "code",
   "execution_count": 16,
   "metadata": {},
   "outputs": [],
   "source": [
    "def Naive_Trainer_ortho(loader: DataLoader, models, criterion, optimizer, epoch: int, device: torch.device, lotos_flag=False, \n",
    "                        catclip=False, no_effect_epochs=0, batch_counter=0, mal_freq=100, conv_freq=50, layer_1_only=False, \n",
    "                        conv_1st_only=False, lsv_list_dict={}, lsv_list_dict_conv={}, conv_only=False, conv_factor=0.05, cat_factor=0.05):\n",
    "    batch_time = AverageMeter()\n",
    "    data_time = AverageMeter()\n",
    "    losses = AverageMeter()\n",
    "    reg_losses = AverageMeter()\n",
    "    ortho_losses = AverageMeter()\n",
    "\n",
    "    end = time.time()\n",
    "    ortho_total = 0.\n",
    "\n",
    "    ortho_flag = lotos_flag\n",
    "    decrement = 0.01\n",
    "    weights = torch.from_numpy(np.array([1 - decrement*i for i in range(100)])).to(device)\n",
    "\n",
    "    print_freq = max(1000, 10*conv_freq)\n",
    "    if len(lsv_list_dict) == 0:\n",
    "        print('initiating lsv list dict')\n",
    "        for j in range(num_models):\n",
    "            lsv_list_dict[j] = None\n",
    "            lsv_list_dict_conv[j] = None\n",
    "\n",
    "    for i in range(num_models):\n",
    "        models[i].train()\n",
    "        requires_grad_(models[i], True)\n",
    "\n",
    "    cat_counter_info = 0\n",
    "    conv_counter_info = 0\n",
    "    for i, (inputs, targets) in enumerate(loader):\n",
    "        data_time.update(time.time() - end)\n",
    "        inputs, targets = inputs.to(device), targets.to(device)\n",
    "        batch_size = inputs.size(0)\n",
    "        loss_std = 0\n",
    "        ortho_loss = 0\n",
    "        ortho_loss_conv = 0\n",
    "\n",
    "        for j in range(num_models):\n",
    "            logits = models[j](inputs)\n",
    "            loss = criterion(logits, targets)\n",
    "            loss_std += loss\n",
    "\n",
    "            if not ortho_flag:\n",
    "                continue\n",
    "            if i == len(loader)-1:\n",
    "                continue\n",
    "\n",
    "            VT_list = []\n",
    "            VT_list_conv = []\n",
    "            idx = 0\n",
    "\n",
    "            conv_count = 0\n",
    "            cat_counter_info = 0\n",
    "            conv_counter_info = 0\n",
    "\n",
    "            for (m_name, m) in models[j].named_modules():\n",
    "                condition = isinstance(m, (torch.nn.Conv2d))\n",
    "                condition_conv = isinstance(m, (torch.nn.Conv2d))\n",
    "                if not condition_conv and conv_only:\n",
    "                    continue\n",
    "                if catclip:\n",
    "                    condition = not conv_only and not isinstance(m, (torch.nn.Conv2d)) and (not isinstance(m, torch.nn.BatchNorm2d) and not isinstance(m, torch.nn.Linear))\n",
    "\n",
    "                if not condition_conv and epoch < no_effect_epochs:\n",
    "                    conv_factor = 0.0\n",
    "                    cat_factor = 0.0\n",
    "\n",
    "                if condition or condition_conv:\n",
    "                    attrs = vars(m)\n",
    "                    for item in attrs.items():\n",
    "                        if item[0] == '_buffers' and 'weight_VT' in item[1]:\n",
    "                            VT = item[1]['weight_VT']\n",
    "                            if batch_counter != 0:\n",
    "                                first_flag = True\n",
    "                                for k in range(num_models):\n",
    "                                    if k == j:\n",
    "                                        if condition_conv:\n",
    "                                            if batch_counter % print_freq != 0:\n",
    "                                                continue\n",
    "                                            prev_VT = lsv_list_dict_conv[k]\n",
    "                                            sing_vector = prev_VT[conv_count]\n",
    "                                        else:\n",
    "                                            if batch_counter % mal_freq != 0:\n",
    "                                                continue\n",
    "                                            prev_VT = lsv_list_dict[k]\n",
    "                                            sing_vector = prev_VT[idx]\n",
    "\n",
    "                                        sing_vector = torch.nn.parameter.Parameter(data=sing_vector, requires_grad=False)\n",
    "                                        op_shape = [i for i in range(1, len(sing_vector.shape))]\n",
    "                                        lsv_check = torch.sqrt(torch.sum(m(sing_vector) **2, axis=op_shape))/torch.sqrt(torch.sum(sing_vector **2, axis=op_shape)) \n",
    "                                        lsv_check_noBias = torch.sqrt(torch.sum( (m(sing_vector) - m(torch.zeros_like(sing_vector) ) )**2, axis=op_shape))/torch.sqrt(torch.sum(sing_vector **2, axis=op_shape)) \n",
    "                                        continue\n",
    "\n",
    "                                    if condition_conv:\n",
    "                                        prev_VT_list = lsv_list_dict_conv[k]\n",
    "                                    else:\n",
    "                                        prev_VT_list = lsv_list_dict[k]\n",
    "\n",
    "                                    if not condition_conv and layer_1_only and idx > 0:\n",
    "                                        continue\n",
    "                                    if condition_conv and conv_1st_only and conv_count > 0:\n",
    "                                        continue\n",
    "\n",
    "                                    if condition_conv:\n",
    "                                        bad_vector = prev_VT_list[conv_count]\n",
    "                                    else:\n",
    "                                        bad_vector = prev_VT_list[idx]\n",
    "\n",
    "                                    if batch_counter % mal_freq != 0 and not condition_conv:\n",
    "                                        continue\n",
    "                                    if batch_counter % conv_freq != 0 and condition_conv:\n",
    "                                        continue\n",
    "\n",
    "                                    bad_vector = torch.nn.parameter.Parameter(data=bad_vector, requires_grad=False)\n",
    "                                    op_shape = [i for i in range(1, len(bad_vector.shape))]\n",
    "                                    bad_vec_length = torch.sqrt(torch.sum((m(bad_vector) - m(torch.zeros_like(bad_vector)) )**2, axis=op_shape))/torch.sqrt(torch.sum(bad_vector **2, axis=op_shape)) ##### fix this shit for multiple vectors!                       \n",
    "\n",
    "                                    if condition_conv:\n",
    "                                        bad_vec_length_thresh = torch.nn.functional.relu(bad_vec_length-bottom_clip)\n",
    "                                    else:\n",
    "                                        bad_vec_length_thresh = torch.nn.functional.relu(bad_vec_length-cat_bottom_clip)\n",
    "\n",
    "                                    bad_vec_length_weighted = torch.sum(torch.mul(bad_vec_length_thresh, weights[:len(bad_vec_length_thresh)]))/torch.sum(weights[:len(bad_vec_length_thresh)])\n",
    "\n",
    "                                    if condition_conv:\n",
    "                                        ortho_loss_conv += conv_factor * bad_vec_length_weighted\n",
    "                                        conv_counter_info += 1\n",
    "                                    if not condition_conv:\n",
    "                                        ortho_loss += cat_factor * bad_vec_length_weighted\n",
    "                                        cat_counter_info += 1\n",
    "\n",
    "                            if condition_conv:\n",
    "                                VT_list_conv.append(VT.detach())\n",
    "                                conv_count += 1\n",
    "                            else:\n",
    "                                VT_list.append(VT.detach())\n",
    "                                idx += 1\n",
    "\n",
    "            lsv_list_dict_conv[j] = VT_list_conv\n",
    "            if not conv_only:\n",
    "                lsv_list_dict[j] = VT_list\n",
    "\n",
    "        reg_losses.update(loss_std.item(), batch_size)\n",
    "        loss = loss_std\n",
    "\n",
    "        if ortho_flag:\n",
    "            pair_count = num_models * (num_models - 1) / 2\n",
    "            conv_counter_info = conv_counter_info // (num_models-1)\n",
    "            cat_counter_info = cat_counter_info // (num_models-1)\n",
    "            \n",
    "            conv_normalizer = conv_counter_info*pair_count\n",
    "            cat_normalizer = cat_counter_info*pair_count\n",
    "\n",
    "            conv_normalizer = 1.\n",
    "            cat_normalizer = 1.\n",
    "\n",
    "            if ortho_loss_conv > 0 and (batch_counter % 200 != 199) and batch_counter > 0 and conv_counter_info > 0 and (batch_counter % conv_freq) == 0:\n",
    "                loss += ortho_loss_conv / conv_normalizer #/ (conv_counter_info*pair_count)\n",
    "                ortho_total += ortho_loss_conv.item() / conv_normalizer #/ (conv_counter_info*pair_count)\n",
    "                if batch_counter % print_freq == 0:\n",
    "                    print('pairs', pair_count,  'conv', conv_counter_info,  'ortho loss conv: ', ortho_loss_conv.item()/ conv_normalizer )\n",
    "\n",
    "            # if batch_counter % 200 != 199 and not conv_only and batch_counter > 0 and cat_counter_info > 0 and (batch_counter % mal_freq) == 50:\n",
    "            if not conv_only and batch_counter > 0 and cat_counter_info > 0 and (batch_counter % mal_freq) == 50:\n",
    "                loss += ortho_loss / cat_normalizer #/ (cat_counter_info*pair_count)\n",
    "                ortho_total += ortho_loss.item() / cat_normalizer #/ (cat_counter_info*pair_count)\n",
    "                if batch_counter % mal_freq == 0:\n",
    "                    print('pairs', pair_count, 'cat', cat_counter_info, 'ortho loss cat: ', ortho_loss.item() / cat_normalizer)\n",
    "\n",
    "        losses.update(loss.item(), batch_size)\n",
    "        optimizer.zero_grad()\n",
    "        loss.backward()\n",
    "        optimizer.step()\n",
    "\n",
    "        # measure elapsed time\n",
    "        batch_time.update(time.time() - end)\n",
    "        end = time.time()\n",
    "        batch_counter += 1\n",
    "\n",
    "    print('Epoch: ', epoch, 'Loss: ', losses.avg, 'Loss_std: ', reg_losses.avg, 'Ortho_loss: ', ortho_losses.avg, 'ortho total:', ortho_total)\n",
    "\n",
    "    return losses.avg, batch_counter, lsv_list_dict, lsv_list_dict_conv"
   ]
  },
  {
   "cell_type": "markdown",
   "metadata": {},
   "source": [
    "Reading CIFAR-10 dataset and preparing data loaders:"
   ]
  },
  {
   "cell_type": "code",
   "execution_count": 17,
   "metadata": {},
   "outputs": [
    {
     "name": "stderr",
     "output_type": "stream",
     "text": [
      "100.0%\n"
     ]
    }
   ],
   "source": [
    "### Reading CIFAR10:\n",
    "transform_train = transforms.Compose([\n",
    "    transforms.RandomCrop(32, padding=4),\n",
    "    transforms.RandomHorizontalFlip(),\n",
    "    transforms.ToTensor(),\n",
    "    transforms.Normalize((0.4914, 0.4822, 0.4465), (0.2023, 0.1994, 0.2010)),\n",
    "])\n",
    "\n",
    "transform_test = transforms.Compose([\n",
    "    transforms.ToTensor(),\n",
    "    transforms.Normalize((0.4914, 0.4822, 0.4465), (0.2023, 0.1994, 0.2010)),\n",
    "])\n",
    "\n",
    "trainset = torchvision.datasets.CIFAR10( root='./data', train=True, download=True, transform=transform_train)\n",
    "train_loader = torch.utils.data.DataLoader( trainset, batch_size=128, shuffle=True, num_workers=1)\n",
    "\n",
    "testset = torchvision.datasets.CIFAR10( root='./data', train=False, download=True, transform=transform_test)\n",
    "test_loader = torch.utils.data.DataLoader( testset, batch_size=128, shuffle=False, num_workers=1)"
   ]
  },
  {
   "cell_type": "markdown",
   "metadata": {},
   "source": [
    "Function to perform the training on ensembles. For ```Orig``` ensembles, both ```clip_flag``` and ```lotos_flag``` should be set to False. For ```C=1```, the ```clip_flag``` should be set the True. For ```LOTOS```, both flags should be set to True:"
   ]
  },
  {
   "cell_type": "code",
   "execution_count": 18,
   "metadata": {},
   "outputs": [],
   "source": [
    "def train_ensemble(num_models, clip_flag=False, lotos_flag=False, seed_val=0):\n",
    "    torch.manual_seed(seed_val)\n",
    "    torch.cuda.manual_seed_all(seed_val)\n",
    "    np.random.seed(seed_val)\n",
    "    random.seed(seed_val)\n",
    "\n",
    "    model = []\n",
    "    for i in range(num_models):\n",
    "        if clip_flag:\n",
    "            submodel = ResNet18(in_chan=in_chan, num_classes=num_classes, device=device, clip_flag=True, bn=False, clip_steps=clip_steps, writer=None)\n",
    "        else:\n",
    "            submodel = ResNet18_orig(in_chan=in_chan, num_classes=num_classes, bn=False, device=device)\n",
    "        submodel = nn.DataParallel(submodel)\n",
    "        model.append(submodel)\n",
    "    print(\"Model loaded\")\n",
    "\n",
    "    criterion = nn.CrossEntropyLoss().cuda()\n",
    "\n",
    "    param = list(model[0].parameters())\n",
    "    for i in range(1, num_models):\n",
    "        param.extend(list(model[i].parameters()))\n",
    "\n",
    "    optimizer = optim.SGD(param, lr=0.1, momentum=0.9, weight_decay=5e-4)\n",
    "    scheduler = optim.lr_scheduler.StepLR(optimizer, step_size=40, gamma=0.1)\n",
    "\n",
    "    trans_list = []\n",
    "    batch_counter = 0\n",
    "    lsv_list_dict = {}\n",
    "    lsv_list_dict_conv = {}\n",
    "    for epoch in range(epochs):\n",
    "        start = time.time()\n",
    "        train_loss, batch_counter, lsv_list_dict, lsv_list_dict_conv = Naive_Trainer_ortho(train_loader, model, criterion, optimizer, \n",
    "                                                                                           epoch, device, lotos_flag=lotos_flag, catclip=False, no_effect_epochs=effective_epoch, \n",
    "                                                                                           batch_counter=batch_counter, mal_freq=freq, conv_freq=conv_freq, layer_1_only=False, \n",
    "                                                                                           conv_1st_only=conv_1st_only, lsv_list_dict=lsv_list_dict, lsv_list_dict_conv=lsv_list_dict_conv, \n",
    "                                                                                           conv_factor=conv_factor, cat_factor=cat_factor,\n",
    "                                                                                           conv_only=conv_only)\n",
    "        print('time: ', time.time() - start)\n",
    "\n",
    "        if epoch % 20 == 0 and epoch >= 60: \n",
    "            trans_list_new = evaltrans_correct(test_loader, model, criterion, epoch)\n",
    "            trans_list += trans_list_new\n",
    "\n",
    "        scheduler.step()\n",
    "\n",
    "    col_names = ['epoch']\n",
    "    for k in range(num_models):\n",
    "        col_names.append('t' + str(k))\n",
    "    col_names.append('acc')\n",
    "\n",
    "    df = pd.DataFrame(trans_list, columns=col_names) \n",
    "    return df\n"
   ]
  },
  {
   "cell_type": "markdown",
   "metadata": {},
   "source": [
    "Now running the training methods for 3 cases: ```Orig```, ```C=1.0```, and ```LOTOS C=1.0 mal=0.8```:"
   ]
  },
  {
   "cell_type": "code",
   "execution_count": null,
   "metadata": {},
   "outputs": [],
   "source": [
    "df_orig = train_ensemble(num_models, clip_flag=False, lotos_flag=False, seed_val=0)"
   ]
  },
  {
   "cell_type": "code",
   "execution_count": null,
   "metadata": {},
   "outputs": [],
   "source": [
    "df_clip = train_ensemble(num_models, clip_flag=True, lotos_flag=False, seed_val=0)"
   ]
  },
  {
   "cell_type": "code",
   "execution_count": null,
   "metadata": {},
   "outputs": [],
   "source": [
    "df_lotos = train_ensemble(num_models, clip_flag=True, lotos_flag=True, seed_val=0)"
   ]
  },
  {
   "cell_type": "code",
   "execution_count": 22,
   "metadata": {},
   "outputs": [
    {
     "name": "stdout",
     "output_type": "stream",
     "text": [
      "   epoch        t0        t1     acc\n",
      "0     60  0.824739  0.821623  0.9095\n",
      "1     60  0.823898  0.823857  0.8987\n",
      "2     80  0.812996  0.835943  0.9203\n",
      "3     80  0.808296  0.825475  0.9162\n",
      "4    100  0.822866  0.843295  0.9219\n",
      "5    100  0.833988  0.825865  0.9194\n",
      "6    120  0.819305  0.840627  0.9231\n",
      "7    120  0.842709  0.817787  0.9209\n"
     ]
    }
   ],
   "source": [
    "print(df_orig)"
   ]
  },
  {
   "cell_type": "code",
   "execution_count": 23,
   "metadata": {},
   "outputs": [
    {
     "name": "stdout",
     "output_type": "stream",
     "text": [
      "   epoch        t0        t1     acc\n",
      "0     60  0.773452  0.805003  0.8912\n",
      "1     60  0.859210  0.753593  0.8977\n",
      "2     80  0.725689  0.857650  0.9183\n",
      "3     80  0.837178  0.737552  0.9198\n",
      "4    100  0.676016  0.873330  0.9056\n",
      "5    100  0.859456  0.683820  0.9036\n",
      "6    120  0.663143  0.867396  0.9081\n",
      "7    120  0.884145  0.659411  0.9096\n"
     ]
    }
   ],
   "source": [
    "print(df_clip)\n"
   ]
  },
  {
   "cell_type": "code",
   "execution_count": 24,
   "metadata": {},
   "outputs": [
    {
     "name": "stdout",
     "output_type": "stream",
     "text": [
      "   epoch        t0        t1     acc\n",
      "0     60  0.719304  0.621961  0.8796\n",
      "1     60  0.515124  0.808196  0.8931\n",
      "2     80  0.708227  0.619055  0.9007\n",
      "3     80  0.545991  0.785051  0.9151\n",
      "4    100  0.660286  0.651832  0.8881\n",
      "5    100  0.643649  0.707518  0.8992\n",
      "6    120  0.649719  0.703100  0.8890\n",
      "7    120  0.665716  0.704056  0.9049\n"
     ]
    }
   ],
   "source": [
    "print(df_lotos)"
   ]
  },
  {
   "cell_type": "markdown",
   "metadata": {},
   "source": [
    "Calculating the average transferability rate, robustness, and acc for each epoch for each ensemble:"
   ]
  },
  {
   "cell_type": "code",
   "execution_count": 25,
   "metadata": {},
   "outputs": [],
   "source": [
    "orig_results = summarize(df_orig, num_models)\n",
    "clip_results = summarize(df_clip, num_models)\n",
    "lotos_results = summarize(df_lotos, num_models)"
   ]
  },
  {
   "cell_type": "code",
   "execution_count": 26,
   "metadata": {},
   "outputs": [
    {
     "name": "stdout",
     "output_type": "stream",
     "text": [
      "\n",
      "Orig ensemble:\n",
      "    epoch     trans    robust      acc\n",
      "0     60  0.822761  0.175702  0.90410\n",
      "1     80  0.822119  0.180765  0.91825\n",
      "2    100  0.838642  0.175635  0.92065\n",
      "3    120  0.841668  0.181454  0.92200\n",
      "\n",
      "C=1 ensemble:\n",
      "    epoch     trans    robust      acc\n",
      "0     60  0.832106  0.236478  0.89445\n",
      "1     80  0.847414  0.268380  0.91905\n",
      "2    100  0.866393  0.320082  0.90460\n",
      "3    120  0.875771  0.338723  0.90885\n",
      "\n",
      "LOTOS ensemble\n",
      "    epoch     trans    robust      acc\n",
      "0     60  0.568543  0.236250  0.88635\n",
      "1     80  0.582523  0.253361  0.90790\n",
      "2    100  0.647741  0.316098  0.89365\n",
      "3    120  0.684408  0.323113  0.89695\n"
     ]
    }
   ],
   "source": [
    "print('\\nOrig ensemble:\\n', orig_results)\n",
    "print('\\nC=1 ensemble:\\n', clip_results)\n",
    "print('\\nLOTOS ensemble\\n', lotos_results)"
   ]
  },
  {
   "cell_type": "markdown",
   "metadata": {},
   "source": [
    "### Making the plots similar to the ones in the paper and saving them to ```figs``` folder:\n",
    "\n",
    "Plotting the average transferability rate between the models in the trained ensembles:"
   ]
  },
  {
   "cell_type": "code",
   "execution_count": 35,
   "metadata": {},
   "outputs": [
    {
     "data": {
      "image/png": "[encoded data removed]",
      "text/plain": [
       "<Figure size 640x480 with 1 Axes>"
      ]
     },
     "metadata": {},
     "output_type": "display_data"
    }
   ],
   "source": [
    "%matplotlib inline\n",
    "import matplotlib.pyplot as plt\n",
    "\n",
    "\n",
    "plt.clf()\n",
    "plt.plot(orig_results['epoch'], orig_results['trans'], label='Orig')\n",
    "plt.plot(clip_results['epoch'], clip_results['trans'], label='C=1')\n",
    "plt.plot(lotos_results['epoch'], lotos_results['trans'], label='LOTOS')\n",
    "plt.xlabel('Epoch')\n",
    "plt.ylabel('Transferability')\n",
    "plt.legend()\n",
    "plt.savefig('figs/transferability.png')\n",
    "plt.show()"
   ]
  },
  {
   "cell_type": "markdown",
   "metadata": {},
   "source": [
    "Plotting the average robust accuracy for single models in the trained ensembles:"
   ]
  },
  {
   "cell_type": "code",
   "execution_count": 38,
   "metadata": {},
   "outputs": [
    {
     "data": {
      "image/png": "[encoded data removed]",
      "text/plain": [
       "<Figure size 640x480 with 1 Axes>"
      ]
     },
     "metadata": {},
     "output_type": "display_data"
    }
   ],
   "source": [
    "plt.clf()\n",
    "plt.plot(orig_results['epoch'], orig_results['robust'], label='Orig')\n",
    "plt.plot(clip_results['epoch'], clip_results['robust'], label='C=1')\n",
    "plt.plot(lotos_results['epoch'], lotos_results['robust'], label='LOTOS')\n",
    "plt.xlabel('Epoch')\n",
    "plt.ylabel('Robust Accuracy') \n",
    "plt.legend()\n",
    "plt.savefig('figs/robustness.png')\n",
    "plt.show()"
   ]
  },
  {
   "cell_type": "markdown",
   "metadata": {},
   "source": [
    "Plotting the average accuracy for single models in the ensemble:"
   ]
  },
  {
   "cell_type": "code",
   "execution_count": 39,
   "metadata": {},
   "outputs": [
    {
     "data": {
      "image/png": "[encoded data removed]",
      "text/plain": [
       "<Figure size 640x480 with 1 Axes>"
      ]
     },
     "metadata": {},
     "output_type": "display_data"
    }
   ],
   "source": [
    "plt.clf()\n",
    "plt.plot(orig_results['epoch'], orig_results['acc'], label='Orig')\n",
    "plt.plot(clip_results['epoch'], clip_results['acc'], label='C=1')\n",
    "plt.plot(lotos_results['epoch'], lotos_results['acc'], label='LOTOS')\n",
    "plt.xlabel('Epoch')\n",
    "plt.ylabel('Accuracy') \n",
    "plt.legend()\n",
    "plt.savefig('figs/accuracy.png')\n",
    "plt.show()"
   ]
  },
  {
   "cell_type": "markdown",
   "metadata": {},
   "source": [
    "### Conclusion:\n",
    "\n",
    "As the plots show, LOTOS allows us to use the benefits of clipping in robustness of single models in the ensemble, while reducing the transferability rate of adversarial examples among them. This will lead to ensembles of models that are more robust to adversarial and non-adversarial noise."
   ]
  },
  {
   "cell_type": "markdown",
   "metadata": {},
   "source": []
  }
 ],
 "metadata": {
  "kernelspec": {
   "display_name": "main",
   "language": "python",
   "name": "python3"
  },
  "language_info": {
   "codemirror_mode": {
    "name": "ipython",
    "version": 3
   },
   "file_extension": ".py",
   "mimetype": "text/x-python",
   "name": "python",
   "nbconvert_exporter": "python",
   "pygments_lexer": "ipython3",
   "version": "3.12.3"
  }
 },
 "nbformat": 4,
 "nbformat_minor": 2
}
